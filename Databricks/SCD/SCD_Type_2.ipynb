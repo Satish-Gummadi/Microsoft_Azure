{
 "cells": [
  {
   "cell_type": "markdown",
   "metadata": {
    "application/vnd.databricks.v1+cell": {
     "cellMetadata": {},
     "inputWidgets": {},
     "nuid": "ba820475-c8ef-431c-8921-bee7512deebc",
     "showTitle": false,
     "title": ""
    }
   },
   "source": [
    "#### Slowly Changing Dimensions (SCD) Type 2 Implementation"
   ]
  },
  {
   "cell_type": "code",
   "execution_count": 0,
   "metadata": {
    "application/vnd.databricks.v1+cell": {
     "cellMetadata": {
      "byteLimit": 2048000,
      "implicitDf": true,
      "rowLimit": 10000
     },
     "inputWidgets": {},
     "nuid": "47bd6a38-f531-4b15-b0e7-013f873332f4",
     "showTitle": false,
     "title": ""
    }
   },
   "outputs": [
    {
     "output_type": "display_data",
     "data": {
      "text/html": [
       "<style scoped>\n",
       "  .table-result-container {\n",
       "    max-height: 300px;\n",
       "    overflow: auto;\n",
       "  }\n",
       "  table, th, td {\n",
       "    border: 1px solid black;\n",
       "    border-collapse: collapse;\n",
       "  }\n",
       "  th, td {\n",
       "    padding: 5px;\n",
       "  }\n",
       "  th {\n",
       "    text-align: left;\n",
       "  }\n",
       "</style><div class='table-result-container'><table class='table-result'><thead style='background-color: white'><tr><th>emp_id</th><th>emp_name</th><th>emp_loc</th><th>active</th><th>effective_date</th><th>end_date</th></tr></thead><tbody></tbody></table></div>"
      ]
     },
     "metadata": {
      "application/vnd.databricks.v1+output": {
       "addedWidgets": {},
       "aggData": [],
       "aggError": "",
       "aggOverflow": false,
       "aggSchema": [],
       "aggSeriesLimitReached": false,
       "aggType": "",
       "arguments": {},
       "columnCustomDisplayInfos": {},
       "data": [],
       "datasetInfos": [],
       "dbfsResultPath": null,
       "isJsonSchema": true,
       "metadata": {
        "dataframeName": "_sqldf",
        "executionCount": 8
       },
       "overflow": false,
       "plotOptions": {
        "customPlotOptions": {},
        "displayType": "table",
        "pivotAggregation": null,
        "pivotColumns": null,
        "xColumns": null,
        "yColumns": null
       },
       "removedWidgets": [],
       "schema": [
        {
         "metadata": "{}",
         "name": "emp_id",
         "type": "\"integer\""
        },
        {
         "metadata": "{}",
         "name": "emp_name",
         "type": "\"string\""
        },
        {
         "metadata": "{}",
         "name": "emp_loc",
         "type": "\"string\""
        },
        {
         "metadata": "{}",
         "name": "active",
         "type": "\"boolean\""
        },
        {
         "metadata": "{}",
         "name": "effective_date",
         "type": "\"timestamp\""
        },
        {
         "metadata": "{}",
         "name": "end_date",
         "type": "\"timestamp\""
        }
       ],
       "type": "table"
      }
     },
     "output_type": "display_data"
    }
   ],
   "source": [
    "%sql\n",
    "\n",
    "DROP TABLE IF EXISTS emp;\n",
    "\n",
    "CREATE TABLE emp(\n",
    "  emp_id int,\n",
    "  emp_name string,\n",
    "  emp_loc string,\n",
    "  active boolean,\n",
    "  effective_date timestamp,\n",
    "  end_date timestamp\n",
    ");\n",
    "\n",
    "SELECT * FROM emp;"
   ]
  },
  {
   "cell_type": "code",
   "execution_count": 0,
   "metadata": {
    "application/vnd.databricks.v1+cell": {
     "cellMetadata": {
      "byteLimit": 2048000,
      "implicitDf": true,
      "rowLimit": 10000
     },
     "inputWidgets": {},
     "nuid": "35202680-d93f-4e70-8deb-d173151b20d2",
     "showTitle": false,
     "title": ""
    }
   },
   "outputs": [
    {
     "output_type": "display_data",
     "data": {
      "text/html": [
       "<style scoped>\n",
       "  .table-result-container {\n",
       "    max-height: 300px;\n",
       "    overflow: auto;\n",
       "  }\n",
       "  table, th, td {\n",
       "    border: 1px solid black;\n",
       "    border-collapse: collapse;\n",
       "  }\n",
       "  th, td {\n",
       "    padding: 5px;\n",
       "  }\n",
       "  th {\n",
       "    text-align: left;\n",
       "  }\n",
       "</style><div class='table-result-container'><table class='table-result'><thead style='background-color: white'><tr><th>emp_id</th><th>emp_name</th><th>emp_loc</th><th>active</th><th>effective_date</th><th>end_date</th></tr></thead><tbody><tr><td>1</td><td>PrasadP</td><td>Bangalore</td><td>true</td><td>2023-08-08T00:00:00Z</td><td>9999-12-31T00:00:00Z</td></tr><tr><td>2</td><td>Satish</td><td>Bangalore</td><td>true</td><td>2023-08-08T00:00:00Z</td><td>9999-12-31T00:00:00Z</td></tr><tr><td>3</td><td>PrasadA</td><td>Bangalore</td><td>true</td><td>2023-08-08T00:00:00Z</td><td>9999-12-31T00:00:00Z</td></tr></tbody></table></div>"
      ]
     },
     "metadata": {
      "application/vnd.databricks.v1+output": {
       "addedWidgets": {},
       "aggData": [],
       "aggError": "",
       "aggOverflow": false,
       "aggSchema": [],
       "aggSeriesLimitReached": false,
       "aggType": "",
       "arguments": {},
       "columnCustomDisplayInfos": {},
       "data": [
        [
         1,
         "PrasadP",
         "Bangalore",
         true,
         "2023-08-08T00:00:00Z",
         "9999-12-31T00:00:00Z"
        ],
        [
         2,
         "Satish",
         "Bangalore",
         true,
         "2023-08-08T00:00:00Z",
         "9999-12-31T00:00:00Z"
        ],
        [
         3,
         "PrasadA",
         "Bangalore",
         true,
         "2023-08-08T00:00:00Z",
         "9999-12-31T00:00:00Z"
        ]
       ],
       "datasetInfos": [],
       "dbfsResultPath": null,
       "isJsonSchema": true,
       "metadata": {
        "dataframeName": "_sqldf",
        "executionCount": 9
       },
       "overflow": false,
       "plotOptions": {
        "customPlotOptions": {},
        "displayType": "table",
        "pivotAggregation": null,
        "pivotColumns": null,
        "xColumns": null,
        "yColumns": null
       },
       "removedWidgets": [],
       "schema": [
        {
         "metadata": "{}",
         "name": "emp_id",
         "type": "\"integer\""
        },
        {
         "metadata": "{}",
         "name": "emp_name",
         "type": "\"string\""
        },
        {
         "metadata": "{}",
         "name": "emp_loc",
         "type": "\"string\""
        },
        {
         "metadata": "{}",
         "name": "active",
         "type": "\"boolean\""
        },
        {
         "metadata": "{}",
         "name": "effective_date",
         "type": "\"timestamp\""
        },
        {
         "metadata": "{}",
         "name": "end_date",
         "type": "\"timestamp\""
        }
       ],
       "type": "table"
      }
     },
     "output_type": "display_data"
    }
   ],
   "source": [
    "%sql\n",
    "\n",
    "INSERT INTO emp VALUES\n",
    "(1,'PrasadP','Bangalore',1,'2023-08-08','9999-12-31'),\n",
    "(2,'Satish','Bangalore',1,'2023-08-08','9999-12-31'),\n",
    "(3,'PrasadA','Bangalore',1,'2023-08-08','9999-12-31');\n",
    "\n",
    "SELECT * FROM emp;"
   ]
  },
  {
   "cell_type": "code",
   "execution_count": 0,
   "metadata": {
    "application/vnd.databricks.v1+cell": {
     "cellMetadata": {
      "byteLimit": 2048000,
      "implicitDf": true,
      "rowLimit": 10000
     },
     "inputWidgets": {},
     "nuid": "b9067759-eedb-4aa5-82fd-7bcd75748506",
     "showTitle": false,
     "title": ""
    }
   },
   "outputs": [
    {
     "output_type": "display_data",
     "data": {
      "text/html": [
       "<style scoped>\n",
       "  .table-result-container {\n",
       "    max-height: 300px;\n",
       "    overflow: auto;\n",
       "  }\n",
       "  table, th, td {\n",
       "    border: 1px solid black;\n",
       "    border-collapse: collapse;\n",
       "  }\n",
       "  th, td {\n",
       "    padding: 5px;\n",
       "  }\n",
       "  th {\n",
       "    text-align: left;\n",
       "  }\n",
       "</style><div class='table-result-container'><table class='table-result'><thead style='background-color: white'><tr><th>emp_id</th><th>emp_name</th><th>emp_loc</th><th>effective_date</th></tr></thead><tbody></tbody></table></div>"
      ]
     },
     "metadata": {
      "application/vnd.databricks.v1+output": {
       "addedWidgets": {},
       "aggData": [],
       "aggError": "",
       "aggOverflow": false,
       "aggSchema": [],
       "aggSeriesLimitReached": false,
       "aggType": "",
       "arguments": {},
       "columnCustomDisplayInfos": {},
       "data": [],
       "datasetInfos": [],
       "dbfsResultPath": null,
       "isJsonSchema": true,
       "metadata": {
        "dataframeName": "_sqldf",
        "executionCount": 10
       },
       "overflow": false,
       "plotOptions": {
        "customPlotOptions": {},
        "displayType": "table",
        "pivotAggregation": null,
        "pivotColumns": null,
        "xColumns": null,
        "yColumns": null
       },
       "removedWidgets": [],
       "schema": [
        {
         "metadata": "{}",
         "name": "emp_id",
         "type": "\"integer\""
        },
        {
         "metadata": "{}",
         "name": "emp_name",
         "type": "\"string\""
        },
        {
         "metadata": "{}",
         "name": "emp_loc",
         "type": "\"string\""
        },
        {
         "metadata": "{}",
         "name": "effective_date",
         "type": "\"timestamp\""
        }
       ],
       "type": "table"
      }
     },
     "output_type": "display_data"
    }
   ],
   "source": [
    "%sql\n",
    "\n",
    "DROP TABLE IF EXISTS emp_source1;\n",
    "\n",
    "CREATE TABLE emp_source1(\n",
    "  emp_id int,\n",
    "  emp_name string,\n",
    "  emp_loc string,\n",
    "  effective_date timestamp\n",
    ");\n",
    "\n",
    "SELECT * FROM emp_source1;"
   ]
  },
  {
   "cell_type": "code",
   "execution_count": 0,
   "metadata": {
    "application/vnd.databricks.v1+cell": {
     "cellMetadata": {
      "byteLimit": 2048000,
      "implicitDf": true,
      "rowLimit": 10000
     },
     "inputWidgets": {},
     "nuid": "e33bb254-42f9-4f97-8da8-08d883eab890",
     "showTitle": false,
     "title": ""
    }
   },
   "outputs": [
    {
     "output_type": "display_data",
     "data": {
      "text/html": [
       "<style scoped>\n",
       "  .table-result-container {\n",
       "    max-height: 300px;\n",
       "    overflow: auto;\n",
       "  }\n",
       "  table, th, td {\n",
       "    border: 1px solid black;\n",
       "    border-collapse: collapse;\n",
       "  }\n",
       "  th, td {\n",
       "    padding: 5px;\n",
       "  }\n",
       "  th {\n",
       "    text-align: left;\n",
       "  }\n",
       "</style><div class='table-result-container'><table class='table-result'><thead style='background-color: white'><tr><th>emp_id</th><th>emp_name</th><th>emp_loc</th><th>effective_date</th></tr></thead><tbody><tr><td>4</td><td>Ankit</td><td>Bangalore</td><td>2023-08-08T00:00:00Z</td></tr><tr><td>1</td><td>PrasadP</td><td>Shridi</td><td>2023-11-11T00:00:00Z</td></tr><tr><td>3</td><td>PrasadA</td><td>Latur</td><td>2023-11-11T00:00:00Z</td></tr><tr><td>5</td><td>Sriram</td><td>Bangalore</td><td>2023-08-08T00:00:00Z</td></tr></tbody></table></div>"
      ]
     },
     "metadata": {
      "application/vnd.databricks.v1+output": {
       "addedWidgets": {},
       "aggData": [],
       "aggError": "",
       "aggOverflow": false,
       "aggSchema": [],
       "aggSeriesLimitReached": false,
       "aggType": "",
       "arguments": {},
       "columnCustomDisplayInfos": {},
       "data": [
        [
         4,
         "Ankit",
         "Bangalore",
         "2023-08-08T00:00:00Z"
        ],
        [
         1,
         "PrasadP",
         "Shridi",
         "2023-11-11T00:00:00Z"
        ],
        [
         3,
         "PrasadA",
         "Latur",
         "2023-11-11T00:00:00Z"
        ],
        [
         5,
         "Sriram",
         "Bangalore",
         "2023-08-08T00:00:00Z"
        ]
       ],
       "datasetInfos": [],
       "dbfsResultPath": null,
       "isJsonSchema": true,
       "metadata": {
        "dataframeName": "_sqldf",
        "executionCount": 11
       },
       "overflow": false,
       "plotOptions": {
        "customPlotOptions": {},
        "displayType": "table",
        "pivotAggregation": null,
        "pivotColumns": null,
        "xColumns": null,
        "yColumns": null
       },
       "removedWidgets": [],
       "schema": [
        {
         "metadata": "{}",
         "name": "emp_id",
         "type": "\"integer\""
        },
        {
         "metadata": "{}",
         "name": "emp_name",
         "type": "\"string\""
        },
        {
         "metadata": "{}",
         "name": "emp_loc",
         "type": "\"string\""
        },
        {
         "metadata": "{}",
         "name": "effective_date",
         "type": "\"timestamp\""
        }
       ],
       "type": "table"
      }
     },
     "output_type": "display_data"
    }
   ],
   "source": [
    "%sql\n",
    "\n",
    "INSERT INTO emp_source1 VALUES\n",
    "(4,'Ankit','Bangalore','2023-08-08'),\n",
    "(1,'PrasadP','Shridi','2023-11-11'),\n",
    "(3,'PrasadA','Latur','2023-11-11'),\n",
    "(5,'Sriram','Bangalore','2023-08-08');\n",
    "\n",
    "SELECT * FROM emp_source1;"
   ]
  },
  {
   "cell_type": "code",
   "execution_count": 0,
   "metadata": {
    "application/vnd.databricks.v1+cell": {
     "cellMetadata": {
      "byteLimit": 2048000,
      "implicitDf": true,
      "rowLimit": 10000
     },
     "inputWidgets": {},
     "nuid": "8416de36-5aba-4e9c-b93d-96b92cd67f47",
     "showTitle": false,
     "title": ""
    }
   },
   "outputs": [
    {
     "output_type": "display_data",
     "data": {
      "text/html": [
       "<style scoped>\n",
       "  .table-result-container {\n",
       "    max-height: 300px;\n",
       "    overflow: auto;\n",
       "  }\n",
       "  table, th, td {\n",
       "    border: 1px solid black;\n",
       "    border-collapse: collapse;\n",
       "  }\n",
       "  th, td {\n",
       "    padding: 5px;\n",
       "  }\n",
       "  th {\n",
       "    text-align: left;\n",
       "  }\n",
       "</style><div class='table-result-container'><table class='table-result'><thead style='background-color: white'><tr><th>merge_key</th><th>emp_id</th><th>emp_name</th><th>emp_loc</th><th>effective_date</th></tr></thead><tbody><tr><td>4</td><td>4</td><td>Ankit</td><td>Bangalore</td><td>2023-08-08T00:00:00Z</td></tr><tr><td>1</td><td>1</td><td>PrasadP</td><td>Shridi</td><td>2023-11-11T00:00:00Z</td></tr><tr><td>3</td><td>3</td><td>PrasadA</td><td>Latur</td><td>2023-11-11T00:00:00Z</td></tr><tr><td>5</td><td>5</td><td>Sriram</td><td>Bangalore</td><td>2023-08-08T00:00:00Z</td></tr><tr><td>null</td><td>1</td><td>PrasadP</td><td>Shridi</td><td>2023-11-11T00:00:00Z</td></tr><tr><td>null</td><td>3</td><td>PrasadA</td><td>Latur</td><td>2023-11-11T00:00:00Z</td></tr></tbody></table></div>"
      ]
     },
     "metadata": {
      "application/vnd.databricks.v1+output": {
       "addedWidgets": {},
       "aggData": [],
       "aggError": "",
       "aggOverflow": false,
       "aggSchema": [],
       "aggSeriesLimitReached": false,
       "aggType": "",
       "arguments": {},
       "columnCustomDisplayInfos": {},
       "data": [
        [
         4,
         4,
         "Ankit",
         "Bangalore",
         "2023-08-08T00:00:00Z"
        ],
        [
         1,
         1,
         "PrasadP",
         "Shridi",
         "2023-11-11T00:00:00Z"
        ],
        [
         3,
         3,
         "PrasadA",
         "Latur",
         "2023-11-11T00:00:00Z"
        ],
        [
         5,
         5,
         "Sriram",
         "Bangalore",
         "2023-08-08T00:00:00Z"
        ],
        [
         null,
         1,
         "PrasadP",
         "Shridi",
         "2023-11-11T00:00:00Z"
        ],
        [
         null,
         3,
         "PrasadA",
         "Latur",
         "2023-11-11T00:00:00Z"
        ]
       ],
       "datasetInfos": [],
       "dbfsResultPath": null,
       "isJsonSchema": true,
       "metadata": {
        "dataframeName": "_sqldf",
        "executionCount": 12
       },
       "overflow": false,
       "plotOptions": {
        "customPlotOptions": {},
        "displayType": "table",
        "pivotAggregation": null,
        "pivotColumns": null,
        "xColumns": null,
        "yColumns": null
       },
       "removedWidgets": [],
       "schema": [
        {
         "metadata": "{}",
         "name": "merge_key",
         "type": "\"integer\""
        },
        {
         "metadata": "{}",
         "name": "emp_id",
         "type": "\"integer\""
        },
        {
         "metadata": "{}",
         "name": "emp_name",
         "type": "\"string\""
        },
        {
         "metadata": "{}",
         "name": "emp_loc",
         "type": "\"string\""
        },
        {
         "metadata": "{}",
         "name": "effective_date",
         "type": "\"timestamp\""
        }
       ],
       "type": "table"
      }
     },
     "output_type": "display_data"
    }
   ],
   "source": [
    "%sql\n",
    "\n",
    "-- Implementation of staging table to perform MERGE operation later on to target table\n",
    "\n",
    "SELECT emp_id as merge_key, emp_source1.*\n",
    "FROM emp_source1\n",
    "UNION ALL\n",
    "SELECT NULL as merge_key, emp_source1.*\n",
    "FROM emp_source1\n",
    "JOIN emp\n",
    "ON emp_source1.emp_id = emp.emp_id\n",
    "WHERE emp.active = 1 and emp_source1.emp_loc <> emp.emp_loc;"
   ]
  },
  {
   "cell_type": "code",
   "execution_count": 0,
   "metadata": {
    "application/vnd.databricks.v1+cell": {
     "cellMetadata": {
      "byteLimit": 2048000,
      "implicitDf": true,
      "rowLimit": 10000
     },
     "inputWidgets": {},
     "nuid": "e5da1279-c612-4543-abd4-c54f4c906572",
     "showTitle": false,
     "title": ""
    }
   },
   "outputs": [
    {
     "output_type": "display_data",
     "data": {
      "text/html": [
       "<style scoped>\n",
       "  .table-result-container {\n",
       "    max-height: 300px;\n",
       "    overflow: auto;\n",
       "  }\n",
       "  table, th, td {\n",
       "    border: 1px solid black;\n",
       "    border-collapse: collapse;\n",
       "  }\n",
       "  th, td {\n",
       "    padding: 5px;\n",
       "  }\n",
       "  th {\n",
       "    text-align: left;\n",
       "  }\n",
       "</style><div class='table-result-container'><table class='table-result'><thead style='background-color: white'><tr><th>num_affected_rows</th><th>num_updated_rows</th><th>num_deleted_rows</th><th>num_inserted_rows</th></tr></thead><tbody><tr><td>6</td><td>2</td><td>0</td><td>4</td></tr></tbody></table></div>"
      ]
     },
     "metadata": {
      "application/vnd.databricks.v1+output": {
       "addedWidgets": {},
       "aggData": [],
       "aggError": "",
       "aggOverflow": false,
       "aggSchema": [],
       "aggSeriesLimitReached": false,
       "aggType": "",
       "arguments": {},
       "columnCustomDisplayInfos": {},
       "data": [
        [
         6,
         2,
         0,
         4
        ]
       ],
       "datasetInfos": [],
       "dbfsResultPath": null,
       "isJsonSchema": true,
       "metadata": {
        "dataframeName": "_sqldf",
        "executionCount": 13
       },
       "overflow": false,
       "plotOptions": {
        "customPlotOptions": {},
        "displayType": "table",
        "pivotAggregation": null,
        "pivotColumns": null,
        "xColumns": null,
        "yColumns": null
       },
       "removedWidgets": [],
       "schema": [
        {
         "metadata": "{}",
         "name": "num_affected_rows",
         "type": "\"long\""
        },
        {
         "metadata": "{}",
         "name": "num_updated_rows",
         "type": "\"long\""
        },
        {
         "metadata": "{}",
         "name": "num_deleted_rows",
         "type": "\"long\""
        },
        {
         "metadata": "{}",
         "name": "num_inserted_rows",
         "type": "\"long\""
        }
       ],
       "type": "table"
      }
     },
     "output_type": "display_data"
    }
   ],
   "source": [
    "%sql\n",
    "\n",
    "-- now using the above table to update and insert to apply SCD type2\n",
    "\n",
    "-- first MERGE operation\n",
    "\n",
    "MERGE INTO emp as tgt\n",
    "USING (\n",
    "  SELECT emp_id as merge_key, emp_source1.*\n",
    "FROM emp_source1\n",
    "UNION ALL\n",
    "SELECT NULL as merge_key, emp_source1.*\n",
    "FROM emp_source1\n",
    "JOIN emp\n",
    "ON emp_source1.emp_id = emp.emp_id\n",
    "WHERE emp.active = 1 and emp_source1.emp_loc <> emp.emp_loc\n",
    ") as src\n",
    "ON tgt.emp_id = src.merge_key\n",
    "WHEN MATCHED AND tgt.active = 1 AND tgt.emp_loc <> src.emp_loc THEN\n",
    "UPDATE SET tgt.active = 0, tgt.end_date=src.effective_date\n",
    "WHEN NOT MATCHED THEN\n",
    "INSERT (emp_id,emp_name,emp_loc,active,effective_date,end_date)\n",
    "VALUES (emp_id,emp_name,emp_loc,1,effective_date,'9999-12-31');"
   ]
  },
  {
   "cell_type": "code",
   "execution_count": 0,
   "metadata": {
    "application/vnd.databricks.v1+cell": {
     "cellMetadata": {
      "byteLimit": 2048000,
      "implicitDf": true,
      "rowLimit": 10000
     },
     "inputWidgets": {},
     "nuid": "2c255f46-796f-42f9-9c09-e119b4f9908f",
     "showTitle": false,
     "title": ""
    }
   },
   "outputs": [
    {
     "output_type": "display_data",
     "data": {
      "text/html": [
       "<style scoped>\n",
       "  .table-result-container {\n",
       "    max-height: 300px;\n",
       "    overflow: auto;\n",
       "  }\n",
       "  table, th, td {\n",
       "    border: 1px solid black;\n",
       "    border-collapse: collapse;\n",
       "  }\n",
       "  th, td {\n",
       "    padding: 5px;\n",
       "  }\n",
       "  th {\n",
       "    text-align: left;\n",
       "  }\n",
       "</style><div class='table-result-container'><table class='table-result'><thead style='background-color: white'><tr><th>emp_id</th><th>emp_name</th><th>emp_loc</th><th>active</th><th>effective_date</th><th>end_date</th></tr></thead><tbody><tr><td>4</td><td>Ankit</td><td>Bangalore</td><td>true</td><td>2023-08-08T00:00:00Z</td><td>9999-12-31T00:00:00Z</td></tr><tr><td>1</td><td>PrasadP</td><td>Bangalore</td><td>false</td><td>2023-08-08T00:00:00Z</td><td>2023-11-11T00:00:00Z</td></tr><tr><td>3</td><td>PrasadA</td><td>Bangalore</td><td>false</td><td>2023-08-08T00:00:00Z</td><td>2023-11-11T00:00:00Z</td></tr><tr><td>5</td><td>Sriram</td><td>Bangalore</td><td>true</td><td>2023-08-08T00:00:00Z</td><td>9999-12-31T00:00:00Z</td></tr><tr><td>2</td><td>Satish</td><td>Bangalore</td><td>true</td><td>2023-08-08T00:00:00Z</td><td>9999-12-31T00:00:00Z</td></tr><tr><td>1</td><td>PrasadP</td><td>Shridi</td><td>true</td><td>2023-11-11T00:00:00Z</td><td>9999-12-31T00:00:00Z</td></tr><tr><td>3</td><td>PrasadA</td><td>Latur</td><td>true</td><td>2023-11-11T00:00:00Z</td><td>9999-12-31T00:00:00Z</td></tr></tbody></table></div>"
      ]
     },
     "metadata": {
      "application/vnd.databricks.v1+output": {
       "addedWidgets": {},
       "aggData": [],
       "aggError": "",
       "aggOverflow": false,
       "aggSchema": [],
       "aggSeriesLimitReached": false,
       "aggType": "",
       "arguments": {},
       "columnCustomDisplayInfos": {},
       "data": [
        [
         4,
         "Ankit",
         "Bangalore",
         true,
         "2023-08-08T00:00:00Z",
         "9999-12-31T00:00:00Z"
        ],
        [
         1,
         "PrasadP",
         "Bangalore",
         false,
         "2023-08-08T00:00:00Z",
         "2023-11-11T00:00:00Z"
        ],
        [
         3,
         "PrasadA",
         "Bangalore",
         false,
         "2023-08-08T00:00:00Z",
         "2023-11-11T00:00:00Z"
        ],
        [
         5,
         "Sriram",
         "Bangalore",
         true,
         "2023-08-08T00:00:00Z",
         "9999-12-31T00:00:00Z"
        ],
        [
         2,
         "Satish",
         "Bangalore",
         true,
         "2023-08-08T00:00:00Z",
         "9999-12-31T00:00:00Z"
        ],
        [
         1,
         "PrasadP",
         "Shridi",
         true,
         "2023-11-11T00:00:00Z",
         "9999-12-31T00:00:00Z"
        ],
        [
         3,
         "PrasadA",
         "Latur",
         true,
         "2023-11-11T00:00:00Z",
         "9999-12-31T00:00:00Z"
        ]
       ],
       "datasetInfos": [],
       "dbfsResultPath": null,
       "isJsonSchema": true,
       "metadata": {
        "dataframeName": "_sqldf",
        "executionCount": 14
       },
       "overflow": false,
       "plotOptions": {
        "customPlotOptions": {},
        "displayType": "table",
        "pivotAggregation": null,
        "pivotColumns": null,
        "xColumns": null,
        "yColumns": null
       },
       "removedWidgets": [],
       "schema": [
        {
         "metadata": "{}",
         "name": "emp_id",
         "type": "\"integer\""
        },
        {
         "metadata": "{}",
         "name": "emp_name",
         "type": "\"string\""
        },
        {
         "metadata": "{}",
         "name": "emp_loc",
         "type": "\"string\""
        },
        {
         "metadata": "{}",
         "name": "active",
         "type": "\"boolean\""
        },
        {
         "metadata": "{}",
         "name": "effective_date",
         "type": "\"timestamp\""
        },
        {
         "metadata": "{}",
         "name": "end_date",
         "type": "\"timestamp\""
        }
       ],
       "type": "table"
      }
     },
     "output_type": "display_data"
    }
   ],
   "source": [
    "%sql\n",
    "\n",
    "SELECT * FROM emp;"
   ]
  },
  {
   "cell_type": "code",
   "execution_count": 0,
   "metadata": {
    "application/vnd.databricks.v1+cell": {
     "cellMetadata": {
      "byteLimit": 2048000,
      "implicitDf": true,
      "rowLimit": 10000
     },
     "inputWidgets": {},
     "nuid": "0d27ea1a-4ddb-4baf-aa29-83c5574d96c2",
     "showTitle": false,
     "title": ""
    }
   },
   "outputs": [
    {
     "output_type": "display_data",
     "data": {
      "text/html": [
       "<style scoped>\n",
       "  .table-result-container {\n",
       "    max-height: 300px;\n",
       "    overflow: auto;\n",
       "  }\n",
       "  table, th, td {\n",
       "    border: 1px solid black;\n",
       "    border-collapse: collapse;\n",
       "  }\n",
       "  th, td {\n",
       "    padding: 5px;\n",
       "  }\n",
       "  th {\n",
       "    text-align: left;\n",
       "  }\n",
       "</style><div class='table-result-container'><table class='table-result'><thead style='background-color: white'><tr><th>emp_id</th><th>emp_name</th><th>emp_loc</th><th>effective_date</th></tr></thead><tbody></tbody></table></div>"
      ]
     },
     "metadata": {
      "application/vnd.databricks.v1+output": {
       "addedWidgets": {},
       "aggData": [],
       "aggError": "",
       "aggOverflow": false,
       "aggSchema": [],
       "aggSeriesLimitReached": false,
       "aggType": "",
       "arguments": {},
       "columnCustomDisplayInfos": {},
       "data": [],
       "datasetInfos": [],
       "dbfsResultPath": null,
       "isJsonSchema": true,
       "metadata": {
        "dataframeName": "_sqldf",
        "executionCount": 15
       },
       "overflow": false,
       "plotOptions": {
        "customPlotOptions": {},
        "displayType": "table",
        "pivotAggregation": null,
        "pivotColumns": null,
        "xColumns": null,
        "yColumns": null
       },
       "removedWidgets": [],
       "schema": [
        {
         "metadata": "{}",
         "name": "emp_id",
         "type": "\"integer\""
        },
        {
         "metadata": "{}",
         "name": "emp_name",
         "type": "\"string\""
        },
        {
         "metadata": "{}",
         "name": "emp_loc",
         "type": "\"string\""
        },
        {
         "metadata": "{}",
         "name": "effective_date",
         "type": "\"timestamp\""
        }
       ],
       "type": "table"
      }
     },
     "output_type": "display_data"
    }
   ],
   "source": [
    "%sql\n",
    "\n",
    "-- creating second source table\n",
    "\n",
    "DROP TABLE IF EXISTS emp_source2;\n",
    "\n",
    "CREATE TABLE emp_source2(\n",
    "  emp_id INT,\n",
    "  emp_name string,\n",
    "  emp_loc string,\n",
    "  effective_date timestamp\n",
    ");\n",
    "\n",
    "SELECT * FROM emp_source2;"
   ]
  },
  {
   "cell_type": "code",
   "execution_count": 0,
   "metadata": {
    "application/vnd.databricks.v1+cell": {
     "cellMetadata": {
      "byteLimit": 2048000,
      "implicitDf": true,
      "rowLimit": 10000
     },
     "inputWidgets": {},
     "nuid": "72bed49d-ad25-4144-9bf4-674e9829e46a",
     "showTitle": false,
     "title": ""
    }
   },
   "outputs": [
    {
     "output_type": "display_data",
     "data": {
      "text/html": [
       "<style scoped>\n",
       "  .table-result-container {\n",
       "    max-height: 300px;\n",
       "    overflow: auto;\n",
       "  }\n",
       "  table, th, td {\n",
       "    border: 1px solid black;\n",
       "    border-collapse: collapse;\n",
       "  }\n",
       "  th, td {\n",
       "    padding: 5px;\n",
       "  }\n",
       "  th {\n",
       "    text-align: left;\n",
       "  }\n",
       "</style><div class='table-result-container'><table class='table-result'><thead style='background-color: white'><tr><th>emp_id</th><th>emp_name</th><th>emp_loc</th><th>effective_date</th></tr></thead><tbody><tr><td>4</td><td>Ankit</td><td>Jamshedpur</td><td>2023-11-18T00:00:00Z</td></tr><tr><td>1</td><td>PrasadP</td><td>Hyderabad</td><td>2023-11-23T00:00:00Z</td></tr></tbody></table></div>"
      ]
     },
     "metadata": {
      "application/vnd.databricks.v1+output": {
       "addedWidgets": {},
       "aggData": [],
       "aggError": "",
       "aggOverflow": false,
       "aggSchema": [],
       "aggSeriesLimitReached": false,
       "aggType": "",
       "arguments": {},
       "columnCustomDisplayInfos": {},
       "data": [
        [
         4,
         "Ankit",
         "Jamshedpur",
         "2023-11-18T00:00:00Z"
        ],
        [
         1,
         "PrasadP",
         "Hyderabad",
         "2023-11-23T00:00:00Z"
        ]
       ],
       "datasetInfos": [],
       "dbfsResultPath": null,
       "isJsonSchema": true,
       "metadata": {
        "dataframeName": "_sqldf",
        "executionCount": 16
       },
       "overflow": false,
       "plotOptions": {
        "customPlotOptions": {},
        "displayType": "table",
        "pivotAggregation": null,
        "pivotColumns": null,
        "xColumns": null,
        "yColumns": null
       },
       "removedWidgets": [],
       "schema": [
        {
         "metadata": "{}",
         "name": "emp_id",
         "type": "\"integer\""
        },
        {
         "metadata": "{}",
         "name": "emp_name",
         "type": "\"string\""
        },
        {
         "metadata": "{}",
         "name": "emp_loc",
         "type": "\"string\""
        },
        {
         "metadata": "{}",
         "name": "effective_date",
         "type": "\"timestamp\""
        }
       ],
       "type": "table"
      }
     },
     "output_type": "display_data"
    }
   ],
   "source": [
    "%sql\n",
    "\n",
    "-- inserting values into our source table\n",
    "\n",
    "INSERT INTO emp_source2 VALUES\n",
    "(4,'Ankit','Jamshedpur','2023-11-18'),\n",
    "(1,'PrasadP','Hyderabad','2023-11-23');\n",
    "\n",
    "SELECT * FROM emp_source2;"
   ]
  },
  {
   "cell_type": "code",
   "execution_count": 0,
   "metadata": {
    "application/vnd.databricks.v1+cell": {
     "cellMetadata": {
      "byteLimit": 2048000,
      "implicitDf": true,
      "rowLimit": 10000
     },
     "inputWidgets": {},
     "nuid": "bd587ada-1093-4027-bac0-aa9e3f520551",
     "showTitle": false,
     "title": ""
    }
   },
   "outputs": [
    {
     "output_type": "display_data",
     "data": {
      "text/html": [
       "<style scoped>\n",
       "  .table-result-container {\n",
       "    max-height: 300px;\n",
       "    overflow: auto;\n",
       "  }\n",
       "  table, th, td {\n",
       "    border: 1px solid black;\n",
       "    border-collapse: collapse;\n",
       "  }\n",
       "  th, td {\n",
       "    padding: 5px;\n",
       "  }\n",
       "  th {\n",
       "    text-align: left;\n",
       "  }\n",
       "</style><div class='table-result-container'><table class='table-result'><thead style='background-color: white'><tr><th>num_affected_rows</th><th>num_updated_rows</th><th>num_deleted_rows</th><th>num_inserted_rows</th></tr></thead><tbody><tr><td>4</td><td>2</td><td>0</td><td>2</td></tr></tbody></table></div>"
      ]
     },
     "metadata": {
      "application/vnd.databricks.v1+output": {
       "addedWidgets": {},
       "aggData": [],
       "aggError": "",
       "aggOverflow": false,
       "aggSchema": [],
       "aggSeriesLimitReached": false,
       "aggType": "",
       "arguments": {},
       "columnCustomDisplayInfos": {},
       "data": [
        [
         4,
         2,
         0,
         2
        ]
       ],
       "datasetInfos": [],
       "dbfsResultPath": null,
       "isJsonSchema": true,
       "metadata": {
        "dataframeName": "_sqldf",
        "executionCount": 18
       },
       "overflow": false,
       "plotOptions": {
        "customPlotOptions": {},
        "displayType": "table",
        "pivotAggregation": null,
        "pivotColumns": null,
        "xColumns": null,
        "yColumns": null
       },
       "removedWidgets": [],
       "schema": [
        {
         "metadata": "{}",
         "name": "num_affected_rows",
         "type": "\"long\""
        },
        {
         "metadata": "{}",
         "name": "num_updated_rows",
         "type": "\"long\""
        },
        {
         "metadata": "{}",
         "name": "num_deleted_rows",
         "type": "\"long\""
        },
        {
         "metadata": "{}",
         "name": "num_inserted_rows",
         "type": "\"long\""
        }
       ],
       "type": "table"
      }
     },
     "output_type": "display_data"
    }
   ],
   "source": [
    "%sql\n",
    "\n",
    "-- MERGING the second source table into our target emp table\n",
    "\n",
    "MERGE INTO emp as tgt\n",
    "USING\n",
    "(\n",
    "  SELECT emp_id as merge_key, emp_source2.*\n",
    "  FROM emp_source2\n",
    "  UNION ALL\n",
    "  SELECT NULL as merge_key, emp_source2.*\n",
    "  FROM emp_source2\n",
    "  JOIN emp\n",
    "  ON emp_source2.emp_id=emp.emp_id \n",
    "  WHERE emp.active=1 AND emp_source2.emp_loc <> emp.emp_loc\n",
    ") as src\n",
    "ON tgt.emp_id = src.merge_key\n",
    "WHEN MATCHED AND tgt.active=1 AND tgt.emp_loc <> src.emp_loc AND tgt.effective_date <> src.effective_date THEN\n",
    "UPDATE SET tgt.active=0, tgt.end_date=src.effective_date\n",
    "WHEN NOT MATCHED THEN\n",
    "INSERT (emp_id,emp_name,emp_loc,active,effective_date,end_date)\n",
    "VALUES (emp_id,emp_name,emp_loc,1,effective_date,'9999-12-31');\n"
   ]
  },
  {
   "cell_type": "code",
   "execution_count": 0,
   "metadata": {
    "application/vnd.databricks.v1+cell": {
     "cellMetadata": {
      "byteLimit": 2048000,
      "implicitDf": true,
      "rowLimit": 10000
     },
     "inputWidgets": {},
     "nuid": "c85f773b-1ded-4e22-82ac-030151fda34b",
     "showTitle": false,
     "title": ""
    }
   },
   "outputs": [
    {
     "output_type": "display_data",
     "data": {
      "text/html": [
       "<style scoped>\n",
       "  .table-result-container {\n",
       "    max-height: 300px;\n",
       "    overflow: auto;\n",
       "  }\n",
       "  table, th, td {\n",
       "    border: 1px solid black;\n",
       "    border-collapse: collapse;\n",
       "  }\n",
       "  th, td {\n",
       "    padding: 5px;\n",
       "  }\n",
       "  th {\n",
       "    text-align: left;\n",
       "  }\n",
       "</style><div class='table-result-container'><table class='table-result'><thead style='background-color: white'><tr><th>emp_id</th><th>emp_name</th><th>emp_loc</th><th>active</th><th>effective_date</th><th>end_date</th></tr></thead><tbody><tr><td>1</td><td>PrasadP</td><td>Hyderabad</td><td>true</td><td>2023-11-23T00:00:00Z</td><td>9999-12-31T00:00:00Z</td></tr><tr><td>2</td><td>Satish</td><td>Bangalore</td><td>true</td><td>2023-08-08T00:00:00Z</td><td>9999-12-31T00:00:00Z</td></tr><tr><td>4</td><td>Ankit</td><td>Jamshedpur</td><td>true</td><td>2023-11-18T00:00:00Z</td><td>9999-12-31T00:00:00Z</td></tr><tr><td>1</td><td>PrasadP</td><td>Bangalore</td><td>false</td><td>2023-08-08T00:00:00Z</td><td>2023-11-11T00:00:00Z</td></tr><tr><td>3</td><td>PrasadA</td><td>Bangalore</td><td>false</td><td>2023-08-08T00:00:00Z</td><td>2023-11-11T00:00:00Z</td></tr><tr><td>5</td><td>Sriram</td><td>Bangalore</td><td>true</td><td>2023-08-08T00:00:00Z</td><td>9999-12-31T00:00:00Z</td></tr><tr><td>3</td><td>PrasadA</td><td>Latur</td><td>true</td><td>2023-11-11T00:00:00Z</td><td>9999-12-31T00:00:00Z</td></tr><tr><td>4</td><td>Ankit</td><td>Bangalore</td><td>false</td><td>2023-08-08T00:00:00Z</td><td>2023-11-18T00:00:00Z</td></tr><tr><td>1</td><td>PrasadP</td><td>Shridi</td><td>false</td><td>2023-11-11T00:00:00Z</td><td>2023-11-23T00:00:00Z</td></tr></tbody></table></div>"
      ]
     },
     "metadata": {
      "application/vnd.databricks.v1+output": {
       "addedWidgets": {},
       "aggData": [],
       "aggError": "",
       "aggOverflow": false,
       "aggSchema": [],
       "aggSeriesLimitReached": false,
       "aggType": "",
       "arguments": {},
       "columnCustomDisplayInfos": {},
       "data": [
        [
         1,
         "PrasadP",
         "Hyderabad",
         true,
         "2023-11-23T00:00:00Z",
         "9999-12-31T00:00:00Z"
        ],
        [
         2,
         "Satish",
         "Bangalore",
         true,
         "2023-08-08T00:00:00Z",
         "9999-12-31T00:00:00Z"
        ],
        [
         4,
         "Ankit",
         "Jamshedpur",
         true,
         "2023-11-18T00:00:00Z",
         "9999-12-31T00:00:00Z"
        ],
        [
         1,
         "PrasadP",
         "Bangalore",
         false,
         "2023-08-08T00:00:00Z",
         "2023-11-11T00:00:00Z"
        ],
        [
         3,
         "PrasadA",
         "Bangalore",
         false,
         "2023-08-08T00:00:00Z",
         "2023-11-11T00:00:00Z"
        ],
        [
         5,
         "Sriram",
         "Bangalore",
         true,
         "2023-08-08T00:00:00Z",
         "9999-12-31T00:00:00Z"
        ],
        [
         3,
         "PrasadA",
         "Latur",
         true,
         "2023-11-11T00:00:00Z",
         "9999-12-31T00:00:00Z"
        ],
        [
         4,
         "Ankit",
         "Bangalore",
         false,
         "2023-08-08T00:00:00Z",
         "2023-11-18T00:00:00Z"
        ],
        [
         1,
         "PrasadP",
         "Shridi",
         false,
         "2023-11-11T00:00:00Z",
         "2023-11-23T00:00:00Z"
        ]
       ],
       "datasetInfos": [],
       "dbfsResultPath": null,
       "isJsonSchema": true,
       "metadata": {
        "dataframeName": "_sqldf",
        "executionCount": 19
       },
       "overflow": false,
       "plotOptions": {
        "customPlotOptions": {},
        "displayType": "table",
        "pivotAggregation": null,
        "pivotColumns": null,
        "xColumns": null,
        "yColumns": null
       },
       "removedWidgets": [],
       "schema": [
        {
         "metadata": "{}",
         "name": "emp_id",
         "type": "\"integer\""
        },
        {
         "metadata": "{}",
         "name": "emp_name",
         "type": "\"string\""
        },
        {
         "metadata": "{}",
         "name": "emp_loc",
         "type": "\"string\""
        },
        {
         "metadata": "{}",
         "name": "active",
         "type": "\"boolean\""
        },
        {
         "metadata": "{}",
         "name": "effective_date",
         "type": "\"timestamp\""
        },
        {
         "metadata": "{}",
         "name": "end_date",
         "type": "\"timestamp\""
        }
       ],
       "type": "table"
      }
     },
     "output_type": "display_data"
    }
   ],
   "source": [
    "%sql\n",
    "\n",
    "SELECT * FROM emp;"
   ]
  },
  {
   "cell_type": "code",
   "execution_count": 0,
   "metadata": {
    "application/vnd.databricks.v1+cell": {
     "cellMetadata": {},
     "inputWidgets": {},
     "nuid": "002c1dc3-c8fd-49a1-85d3-aba3270aa858",
     "showTitle": false,
     "title": ""
    }
   },
   "outputs": [],
   "source": []
  }
 ],
 "metadata": {
  "application/vnd.databricks.v1+notebook": {
   "dashboards": [],
   "language": "python",
   "notebookMetadata": {
    "mostRecentlyExecutedCommandWithImplicitDF": {
     "commandId": 3649932118893542,
     "dataframes": [
      "_sqldf"
     ]
    },
    "pythonIndentUnit": 4
   },
   "notebookName": "SCD_Type_2",
   "widgets": {}
  }
 },
 "nbformat": 4,
 "nbformat_minor": 0
}
